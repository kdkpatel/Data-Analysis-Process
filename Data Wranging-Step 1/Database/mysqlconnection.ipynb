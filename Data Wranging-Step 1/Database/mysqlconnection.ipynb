{
 "cells": [
  {
   "cell_type": "code",
   "execution_count": 1,
   "id": "d9cec10e",
   "metadata": {
    "scrolled": true
   },
   "outputs": [
    {
     "name": "stdout",
     "output_type": "stream",
     "text": [
      "Requirement already satisfied: mysql.connector in c:\\users\\kadambari\\anaconda3\\lib\\site-packages (2.2.9)\n"
     ]
    }
   ],
   "source": [
    "! pip install mysql.connector\n"
   ]
  },
  {
   "cell_type": "code",
   "execution_count": 2,
   "id": "62b447ac",
   "metadata": {},
   "outputs": [],
   "source": [
    "import mysql.connector\n",
    "import pandas as pd"
   ]
  },
  {
   "cell_type": "code",
   "execution_count": 3,
   "id": "788c8537",
   "metadata": {},
   "outputs": [],
   "source": [
    "mydb = mysql.connector.connect(\n",
    " host=\"localhost\",\n",
    " user=\"root\",\n",
    " password=\"\",\n",
    " database=\"shopping\"\n",
    ")"
   ]
  },
  {
   "cell_type": "code",
   "execution_count": 4,
   "id": "5f4abbb2",
   "metadata": {},
   "outputs": [],
   "source": [
    "mycursor = mydb.cursor()"
   ]
  },
  {
   "cell_type": "code",
   "execution_count": 5,
   "id": "c974c35d",
   "metadata": {},
   "outputs": [
    {
     "data": {
      "text/plain": [
       "mysql.connector.cursor.MySQLCursor"
      ]
     },
     "execution_count": 5,
     "metadata": {},
     "output_type": "execute_result"
    }
   ],
   "source": [
    "type(mycursor)"
   ]
  },
  {
   "cell_type": "code",
   "execution_count": 6,
   "id": "f9b20423",
   "metadata": {},
   "outputs": [],
   "source": [
    "# fetching data from userinfo"
   ]
  },
  {
   "cell_type": "code",
   "execution_count": 7,
   "id": "b94ba395",
   "metadata": {},
   "outputs": [],
   "source": [
    "mycursor.execute('SELECT * FROM userinfo')\n",
    "\n",
    "data = mycursor.fetchall()"
   ]
  },
  {
   "cell_type": "code",
   "execution_count": 8,
   "id": "6dba3e4a",
   "metadata": {},
   "outputs": [
    {
     "data": {
      "text/plain": [
       "list"
      ]
     },
     "execution_count": 8,
     "metadata": {},
     "output_type": "execute_result"
    }
   ],
   "source": [
    "type(data)"
   ]
  },
  {
   "cell_type": "code",
   "execution_count": 9,
   "id": "ecb11c4b",
   "metadata": {},
   "outputs": [
    {
     "data": {
      "text/plain": [
       "15"
      ]
     },
     "execution_count": 9,
     "metadata": {},
     "output_type": "execute_result"
    }
   ],
   "source": [
    "len(data)"
   ]
  },
  {
   "cell_type": "code",
   "execution_count": 10,
   "id": "e9637020",
   "metadata": {},
   "outputs": [
    {
     "name": "stdout",
     "output_type": "stream",
     "text": [
      "('abulmal', 'Abul', 'abul@ymail.com', '1234', '1144552')\n",
      "('afifanik', 'Afif', 'afifanik@gmail.com', '44444123', '1122334455')\n",
      "('ajhga', 'jh', 'hghnb66', 'hgf', 'gfd')\n",
      "('asd', 'sad', 'asd', 'dsa', 'sad')\n",
      "('bb', 'Black Bengal ', 'afifanik@gmail.com', '12345', '1122334455')\n",
      "('bbm', 'Black Bengal Man', 'afifanik@gmail.com', '12345', '1122334469')\n",
      "('bolod', 'Oyan', 'bolod@gmail.com', '1234', '1234')\n",
      "('jsdg', 'jha', 'asd', 'ashgf', 'lk')\n",
      "('kajdhs', 'Abul', 'jhg@jhasg.com', '231423', '11223344')\n",
      "('nobab', 'Sirajuddowla', 'afifanik@gmail.com', '12345', '1122334455')\n",
      "('rony', 'Anisur Rahman Rony', 'anisurrahmanrony3@gmail.com', 'rony', '123')\n",
      "('sdf', 'fdg', 'sdfg', 'sdf', 'dsf')\n",
      "('steve', 'Steve Smith', 'steve@test.com', 'steve', '')\n",
      "('tony', 'Tony Stark', 'tony@gmail.com', 'tony', '')\n",
      "('xxxy', 'XXX', 'xxx@y.com', '1235', '')\n"
     ]
    }
   ],
   "source": [
    "for i in data:\n",
    "    print(i)"
   ]
  },
  {
   "cell_type": "code",
   "execution_count": 11,
   "id": "0e11ee15",
   "metadata": {},
   "outputs": [
    {
     "name": "stdout",
     "output_type": "stream",
     "text": [
      "abul@ymail.com 1234\n",
      "afifanik@gmail.com 44444123\n",
      "hghnb66 hgf\n",
      "asd dsa\n",
      "afifanik@gmail.com 12345\n",
      "afifanik@gmail.com 12345\n",
      "bolod@gmail.com 1234\n",
      "asd ashgf\n",
      "jhg@jhasg.com 231423\n",
      "afifanik@gmail.com 12345\n",
      "anisurrahmanrony3@gmail.com rony\n",
      "sdfg sdf\n",
      "steve@test.com steve\n",
      "tony@gmail.com tony\n",
      "xxx@y.com 1235\n"
     ]
    }
   ],
   "source": [
    "for i in data:\n",
    "    print(i[2],i[3])"
   ]
  },
  {
   "cell_type": "code",
   "execution_count": 12,
   "id": "bdf14728",
   "metadata": {},
   "outputs": [],
   "source": [
    "#fetching data from billing"
   ]
  },
  {
   "cell_type": "code",
   "execution_count": 13,
   "id": "1f2eb9b7",
   "metadata": {},
   "outputs": [],
   "source": [
    "mycursor.execute('SELECT * FROM billing')\n",
    "\n",
    "data_billing = mycursor.fetchall()"
   ]
  },
  {
   "cell_type": "code",
   "execution_count": 14,
   "id": "badbd2c6",
   "metadata": {},
   "outputs": [
    {
     "data": {
      "text/plain": [
       "[(7, 'xxxy', 23900, 'Wed Aug 02 22:18:18 BDT 2017'),\n",
       " (8, 'xxxy', 900, 'Wed Aug 02 22:19:08 BDT 2017'),\n",
       " (9, 'admin', 48244, 'Wed Aug 02 22:32:03 BDT 2017'),\n",
       " (10, 'bb', 38500, 'Wed Aug 02 22:46:15 BDT 2017'),\n",
       " (11, 'bb', 36000, 'Wed Aug 02 22:49:25 BDT 2017'),\n",
       " (12, 'bbm', 217020, 'Wed Aug 02 23:59:04 BDT 2017'),\n",
       " (13, 'admin', 36630, 'Thu Aug 03 00:02:21 BDT 2017'),\n",
       " (14, 'steve', 10900, 'Wed May 15 20:17:17 NPT 2019')]"
      ]
     },
     "execution_count": 14,
     "metadata": {},
     "output_type": "execute_result"
    }
   ],
   "source": [
    "data_billing"
   ]
  },
  {
   "cell_type": "code",
   "execution_count": 15,
   "id": "9accc1f1",
   "metadata": {},
   "outputs": [
    {
     "name": "stdout",
     "output_type": "stream",
     "text": [
      "7 xxxy 23900 Wed Aug 02 22:18:18 BDT 2017\n",
      "8 xxxy 900 Wed Aug 02 22:19:08 BDT 2017\n",
      "9 admin 48244 Wed Aug 02 22:32:03 BDT 2017\n",
      "10 bb 38500 Wed Aug 02 22:46:15 BDT 2017\n",
      "11 bb 36000 Wed Aug 02 22:49:25 BDT 2017\n",
      "12 bbm 217020 Wed Aug 02 23:59:04 BDT 2017\n",
      "13 admin 36630 Thu Aug 03 00:02:21 BDT 2017\n",
      "14 steve 10900 Wed May 15 20:17:17 NPT 2019\n"
     ]
    }
   ],
   "source": [
    "for i in data_billing:\n",
    "    print(i[0],i[1],i[2],i[3])"
   ]
  },
  {
   "cell_type": "code",
   "execution_count": 16,
   "id": "4d82941b",
   "metadata": {},
   "outputs": [],
   "source": [
    "#fetching data from electronics "
   ]
  },
  {
   "cell_type": "code",
   "execution_count": 17,
   "id": "bcbee025",
   "metadata": {},
   "outputs": [],
   "source": [
    "mycursor.execute('SELECT * FROM electronics')\n",
    "\n",
    "data_electronics = mycursor.fetchall()"
   ]
  },
  {
   "cell_type": "code",
   "execution_count": 18,
   "id": "d551dcd4",
   "metadata": {},
   "outputs": [
    {
     "name": "stdout",
     "output_type": "stream",
     "text": [
      "(7, 'Nikon', 'F2', 10000, 48, 'Interchangeable viewfinders\\n50mm 1.4 lens\\n street-photography setup', 'DSLR.jpg')\n",
      "(10, 'American Gas Machine', 'Co Albert Lea Minn Door ', 1200, 32, 'Vintage Gas-Powered Kitchen Iron', 'Iron.jpg')\n",
      "(13, 'LG Microwave', 'MC3286BRUM', 25000, 100, 'Best product at this price!', 'microwave oven.jpg')\n",
      "(14, 'Godrej Fridge', 'A53GGF12', 47000, 99, 'Check this out!', 'Godrej Fridge.jpg')\n",
      "(15, 'Godrej AC', 'M348JJK13', 40000, 97, 'Check this out!', 'Godrej Ac.jpg')\n",
      "(16, 'Nikon dslr', 'H64646HG1', 60000, 91, 'Check this out!', 'nikon dslr.jpg')\n"
     ]
    }
   ],
   "source": [
    "for i in data_electronics:\n",
    "    print(i)"
   ]
  },
  {
   "cell_type": "code",
   "execution_count": 19,
   "id": "785f300e",
   "metadata": {},
   "outputs": [
    {
     "name": "stdout",
     "output_type": "stream",
     "text": [
      "7 Nikon\n",
      "10 American Gas Machine\n",
      "13 LG Microwave\n",
      "14 Godrej Fridge\n",
      "15 Godrej AC\n",
      "16 Nikon dslr\n"
     ]
    }
   ],
   "source": [
    "for i in data_electronics:\n",
    "    print(i[0],i[1])"
   ]
  },
  {
   "cell_type": "code",
   "execution_count": 20,
   "id": "ba3e8489",
   "metadata": {},
   "outputs": [],
   "source": [
    "# Join billing and electronics"
   ]
  },
  {
   "cell_type": "code",
   "execution_count": 21,
   "id": "e216d8cd",
   "metadata": {},
   "outputs": [],
   "source": [
    "query1='SELECT uname, bill,date FROM billing e JOIN electronics u ON u.id=e.id'\n",
    "\n",
    "\n",
    "#q= 'SELECT *FROM billing JOIN electronics ON billing.uname = electronics.mbrand'"
   ]
  },
  {
   "cell_type": "code",
   "execution_count": 22,
   "id": "eb20a394",
   "metadata": {},
   "outputs": [],
   "source": [
    "mycursor.execute(query1)\n",
    "data = mycursor.fetchall()\n"
   ]
  },
  {
   "cell_type": "code",
   "execution_count": 23,
   "id": "68c54feb",
   "metadata": {},
   "outputs": [
    {
     "name": "stdout",
     "output_type": "stream",
     "text": [
      "('xxxy', 23900, 'Wed Aug 02 22:18:18 BDT 2017')\n",
      "('bb', 38500, 'Wed Aug 02 22:46:15 BDT 2017')\n",
      "('admin', 36630, 'Thu Aug 03 00:02:21 BDT 2017')\n",
      "('steve', 10900, 'Wed May 15 20:17:17 NPT 2019')\n"
     ]
    }
   ],
   "source": [
    "for i in data:\n",
    "    print(i)"
   ]
  },
  {
   "cell_type": "code",
   "execution_count": 24,
   "id": "3a78efe5",
   "metadata": {},
   "outputs": [
    {
     "name": "stdout",
     "output_type": "stream",
     "text": [
      "   uname   bill                          date\n",
      "0   xxxy  23900  Wed Aug 02 22:18:18 BDT 2017\n",
      "1     bb  38500  Wed Aug 02 22:46:15 BDT 2017\n",
      "2  admin  36630  Thu Aug 03 00:02:21 BDT 2017\n",
      "3  steve  10900  Wed May 15 20:17:17 NPT 2019\n"
     ]
    }
   ],
   "source": [
    "uname = []\n",
    "bill = []\n",
    "date = []\n",
    "\n",
    "for i in data:\n",
    "    uname.append(i[0])\n",
    "    bill.append(i[1])\n",
    "    date.append(i[2])\n",
    "\n",
    "d = {'uname': uname, 'bill': bill, 'date': date}\n",
    "\n",
    "df = pd.DataFrame(d)\n",
    "\n",
    "print(df)"
   ]
  },
  {
   "cell_type": "code",
   "execution_count": 25,
   "id": "43388046",
   "metadata": {},
   "outputs": [],
   "source": [
    "df.to_csv('shopping.csv')"
   ]
  }
 ],
 "metadata": {
  "kernelspec": {
   "display_name": "Python 3 (ipykernel)",
   "language": "python",
   "name": "python3"
  },
  "language_info": {
   "codemirror_mode": {
    "name": "ipython",
    "version": 3
   },
   "file_extension": ".py",
   "mimetype": "text/x-python",
   "name": "python",
   "nbconvert_exporter": "python",
   "pygments_lexer": "ipython3",
   "version": "3.9.13"
  }
 },
 "nbformat": 4,
 "nbformat_minor": 5
}
