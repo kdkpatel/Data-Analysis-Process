{
 "cells": [
  {
   "cell_type": "code",
   "execution_count": 1,
   "id": "edb955f4",
   "metadata": {},
   "outputs": [],
   "source": [
    "import pandas as pd\n",
    "import requests\n",
    "from bs4 import BeautifulSoup"
   ]
  },
  {
   "cell_type": "code",
   "execution_count": 2,
   "id": "3dabc73f",
   "metadata": {},
   "outputs": [],
   "source": [
    "headers = {'User-Agent' : 'Mozilla/5.0 (Windows NT 6.3; Win64; x64)AppleWebkit/537.36 (KHTML, like Gecko) Chrome/80.0.3987.162 Safari/537.36'}\n",
    "webpage=requests.get('https://www.monster.com/jobs/c-uber?page=1',headers=headers).text"
   ]
  },
  {
   "cell_type": "code",
   "execution_count": 3,
   "id": "95f63d14",
   "metadata": {},
   "outputs": [],
   "source": [
    "soup=BeautifulSoup(webpage, 'lxml')"
   ]
  },
  {
   "cell_type": "code",
   "execution_count": 4,
   "id": "250d1a64",
   "metadata": {},
   "outputs": [
    {
     "data": {
      "text/plain": [
       "'Part-Time Delivery - Uber EatsUber Eats'"
      ]
     },
     "execution_count": 4,
     "metadata": {},
     "output_type": "execute_result"
    }
   ],
   "source": [
    "soup.find_all('h3')[0].text"
   ]
  },
  {
   "cell_type": "code",
   "execution_count": 5,
   "id": "011bdc72",
   "metadata": {
    "scrolled": false
   },
   "outputs": [],
   "source": [
    "#print(soup.prettify())\n"
   ]
  },
  {
   "cell_type": "code",
   "execution_count": 6,
   "id": "44319765",
   "metadata": {
    "scrolled": false
   },
   "outputs": [
    {
     "name": "stdout",
     "output_type": "stream",
     "text": [
      "Part-Time Delivery - Uber EatsUber Eats\n",
      "Flexible Winter Schedule - Deliver with Uber EatsUber Eats\n",
      "Part-Time DeliveryUber Eats\n",
      "Deliver with Uber on your scheduleUber Eats\n",
      "Part-Time Delivery - Uber EatsUber Eats\n",
      "Driver - Earn $1250, guaranteed with UberUber\n",
      "Deliver Eats with Uber EatsUber Eats\n",
      "Head Of North America MarketingUber\n",
      "Senior Engineering Manager - Rider PersonalizationUber\n",
      "For Job Seekers\n",
      "For Employers\n",
      "Helpful Resources\n"
     ]
    }
   ],
   "source": [
    "for i in soup.find_all('h3'):\n",
    "    print(i.text.strip())"
   ]
  },
  {
   "cell_type": "code",
   "execution_count": 7,
   "id": "4ddffb1e",
   "metadata": {},
   "outputs": [],
   "source": [
    "company=soup.find_all('li',class_='sc-gsqrwE eDptsq')"
   ]
  },
  {
   "cell_type": "code",
   "execution_count": 8,
   "id": "4fdf8de1",
   "metadata": {},
   "outputs": [
    {
     "data": {
      "text/plain": [
       "11"
      ]
     },
     "execution_count": 8,
     "metadata": {},
     "output_type": "execute_result"
    }
   ],
   "source": [
    "len(company)"
   ]
  },
  {
   "cell_type": "code",
   "execution_count": 9,
   "id": "d88d8467",
   "metadata": {
    "scrolled": false
   },
   "outputs": [
    {
     "data": {
      "text/html": [
       "<div>\n",
       "<style scoped>\n",
       "    .dataframe tbody tr th:only-of-type {\n",
       "        vertical-align: middle;\n",
       "    }\n",
       "\n",
       "    .dataframe tbody tr th {\n",
       "        vertical-align: top;\n",
       "    }\n",
       "\n",
       "    .dataframe thead th {\n",
       "        text-align: right;\n",
       "    }\n",
       "</style>\n",
       "<table border=\"1\" class=\"dataframe\">\n",
       "  <thead>\n",
       "    <tr style=\"text-align: right;\">\n",
       "      <th></th>\n",
       "      <th>name</th>\n",
       "      <th>location</th>\n",
       "      <th>detail</th>\n",
       "      <th>hiring</th>\n",
       "    </tr>\n",
       "  </thead>\n",
       "  <tbody>\n",
       "    <tr>\n",
       "      <th>0</th>\n",
       "      <td>[[Part-Time Delivery - Uber Eats], [Uber Eats]]</td>\n",
       "      <td>[Lunenburg, MA]</td>\n",
       "      <td>[30+ days ago]</td>\n",
       "      <td>[Actively Hiring]</td>\n",
       "    </tr>\n",
       "    <tr>\n",
       "      <th>1</th>\n",
       "      <td>[[Flexible Winter Schedule - Deliver with Uber...</td>\n",
       "      <td>[Whitinsville, MA]</td>\n",
       "      <td>[30+ days ago]</td>\n",
       "      <td>[Actively Hiring]</td>\n",
       "    </tr>\n",
       "    <tr>\n",
       "      <th>2</th>\n",
       "      <td>[[Part-Time Delivery], [Uber Eats]]</td>\n",
       "      <td>[Barre, MA]</td>\n",
       "      <td>[30+ days ago]</td>\n",
       "      <td>[Actively Hiring]</td>\n",
       "    </tr>\n",
       "    <tr>\n",
       "      <th>3</th>\n",
       "      <td>[[Deliver with Uber on your schedule], [Uber E...</td>\n",
       "      <td>[Rawlins, WY]</td>\n",
       "      <td>[30+ days ago]</td>\n",
       "      <td>[Actively Hiring]</td>\n",
       "    </tr>\n",
       "    <tr>\n",
       "      <th>4</th>\n",
       "      <td>[[Part-Time Delivery - Uber Eats], [Uber Eats]]</td>\n",
       "      <td>[Oak Island, NC]</td>\n",
       "      <td>[30+ days ago]</td>\n",
       "      <td>[Actively Hiring]</td>\n",
       "    </tr>\n",
       "    <tr>\n",
       "      <th>5</th>\n",
       "      <td>[[Driver - Earn $1250, guaranteed with Uber], ...</td>\n",
       "      <td>[Patterson, IA]</td>\n",
       "      <td>[30+ days ago]</td>\n",
       "      <td>[Actively Hiring]</td>\n",
       "    </tr>\n",
       "    <tr>\n",
       "      <th>6</th>\n",
       "      <td>[[Deliver Eats with Uber Eats], [Uber Eats]]</td>\n",
       "      <td>[Worcester, MA]</td>\n",
       "      <td>[30+ days ago]</td>\n",
       "      <td>[Actively Hiring]</td>\n",
       "    </tr>\n",
       "    <tr>\n",
       "      <th>7</th>\n",
       "      <td>[[Head Of North America Marketing], [Uber]]</td>\n",
       "      <td>[Chicago, IL]</td>\n",
       "      <td>[24 days ago]</td>\n",
       "      <td>None</td>\n",
       "    </tr>\n",
       "    <tr>\n",
       "      <th>8</th>\n",
       "      <td>[[Senior Engineering Manager - Rider Personali...</td>\n",
       "      <td>[San Francisco, CA]</td>\n",
       "      <td>[24 days ago]</td>\n",
       "      <td>None</td>\n",
       "    </tr>\n",
       "    <tr>\n",
       "      <th>9</th>\n",
       "      <td>None</td>\n",
       "      <td>None</td>\n",
       "      <td>None</td>\n",
       "      <td>None</td>\n",
       "    </tr>\n",
       "    <tr>\n",
       "      <th>10</th>\n",
       "      <td>None</td>\n",
       "      <td>None</td>\n",
       "      <td>None</td>\n",
       "      <td>None</td>\n",
       "    </tr>\n",
       "  </tbody>\n",
       "</table>\n",
       "</div>"
      ],
      "text/plain": [
       "                                                 name             location  \\\n",
       "0     [[Part-Time Delivery - Uber Eats], [Uber Eats]]      [Lunenburg, MA]   \n",
       "1   [[Flexible Winter Schedule - Deliver with Uber...   [Whitinsville, MA]   \n",
       "2                 [[Part-Time Delivery], [Uber Eats]]          [Barre, MA]   \n",
       "3   [[Deliver with Uber on your schedule], [Uber E...        [Rawlins, WY]   \n",
       "4     [[Part-Time Delivery - Uber Eats], [Uber Eats]]     [Oak Island, NC]   \n",
       "5   [[Driver - Earn $1250, guaranteed with Uber], ...      [Patterson, IA]   \n",
       "6        [[Deliver Eats with Uber Eats], [Uber Eats]]      [Worcester, MA]   \n",
       "7         [[Head Of North America Marketing], [Uber]]        [Chicago, IL]   \n",
       "8   [[Senior Engineering Manager - Rider Personali...  [San Francisco, CA]   \n",
       "9                                                None                 None   \n",
       "10                                               None                 None   \n",
       "\n",
       "            detail             hiring  \n",
       "0   [30+ days ago]  [Actively Hiring]  \n",
       "1   [30+ days ago]  [Actively Hiring]  \n",
       "2   [30+ days ago]  [Actively Hiring]  \n",
       "3   [30+ days ago]  [Actively Hiring]  \n",
       "4   [30+ days ago]  [Actively Hiring]  \n",
       "5   [30+ days ago]  [Actively Hiring]  \n",
       "6   [30+ days ago]  [Actively Hiring]  \n",
       "7    [24 days ago]               None  \n",
       "8    [24 days ago]               None  \n",
       "9             None               None  \n",
       "10            None               None  "
      ]
     },
     "execution_count": 9,
     "metadata": {},
     "output_type": "execute_result"
    }
   ],
   "source": [
    "name=[]\n",
    "location=[]\n",
    "detail=[]\n",
    "hiring=[]\n",
    "for i in company:\n",
    "    \n",
    "    name.append(i.find('h3'))\n",
    "    location.append(i.find('span', {'data-testid': 'jobDetailLocation'}))\n",
    "    detail.append(i.find('span', {'data-testid': 'jobDetailDateRecency'}))\n",
    "    hiring.append(i.find('span', class_='sc-cdpdzN hPikyo ds-tag-label'))\n",
    "\n",
    "d={'name' :name,'location': location,'detail': detail,'hiring': hiring }\n",
    "\n",
    "df=pd.DataFrame(d)\n",
    "\n",
    "df\n"
   ]
  },
  {
   "cell_type": "code",
   "execution_count": 10,
   "id": "64709fcc",
   "metadata": {
    "scrolled": true
   },
   "outputs": [
    {
     "name": "stdout",
     "output_type": "stream",
     "text": [
      "                                                 name           location  \\\n",
      "0             Part-Time Delivery - Uber EatsUber Eats      Lunenburg, MA   \n",
      "1   Flexible Winter Schedule - Deliver with Uber E...   Whitinsville, MA   \n",
      "2                         Part-Time DeliveryUber Eats          Barre, MA   \n",
      "3         Deliver with Uber on your scheduleUber Eats        Rawlins, WY   \n",
      "4             Part-Time Delivery - Uber EatsUber Eats     Oak Island, NC   \n",
      "5       Driver - Earn $1250, guaranteed with UberUber      Patterson, IA   \n",
      "6                Deliver Eats with Uber EatsUber Eats      Worcester, MA   \n",
      "7                 Head Of North America MarketingUber        Chicago, IL   \n",
      "8   Senior Engineering Manager - Rider Personaliza...  San Francisco, CA   \n",
      "9                                                None               None   \n",
      "10                                               None               None   \n",
      "\n",
      "          detail           hiring  \n",
      "0   30+ days ago  Actively Hiring  \n",
      "1   30+ days ago  Actively Hiring  \n",
      "2   30+ days ago  Actively Hiring  \n",
      "3   30+ days ago  Actively Hiring  \n",
      "4   30+ days ago  Actively Hiring  \n",
      "5   30+ days ago  Actively Hiring  \n",
      "6   30+ days ago  Actively Hiring  \n",
      "7    24 days ago             None  \n",
      "8    24 days ago             None  \n",
      "9           None             None  \n",
      "10          None             None  \n"
     ]
    }
   ],
   "source": [
    "import pandas as pd\n",
    "\n",
    "name = []\n",
    "location = []\n",
    "detail = []\n",
    "hiring = []\n",
    "\n",
    "for i in company:\n",
    "    name_element = i.find('h3')\n",
    "    if name_element is not None:\n",
    "        name.append(name_element.text.strip())\n",
    "    else:\n",
    "        name.append(None)\n",
    "\n",
    "    location_element = i.find('span', {'data-testid': 'jobDetailLocation'})\n",
    "    if location_element is not None:\n",
    "        location.append(location_element.text.strip())\n",
    "    else:\n",
    "        location.append(None)\n",
    "\n",
    "    detail_element = i.find('span', {'data-testid': 'jobDetailDateRecency'})\n",
    "    if detail_element is not None:\n",
    "        detail.append(detail_element.text.strip())\n",
    "    else:\n",
    "        detail.append(None)\n",
    "\n",
    "    hiring_element = i.find('span', class_='sc-cdpdzN hPikyo ds-tag-label')\n",
    "    if hiring_element is not None:\n",
    "        hiring.append(hiring_element.text.strip())\n",
    "    else:\n",
    "        hiring.append(None)\n",
    "\n",
    "d = {'name': name, 'location': location, 'detail': detail, 'hiring': hiring}\n",
    "\n",
    "df = pd.DataFrame(d)\n",
    "\n",
    "print(df)\n"
   ]
  },
  {
   "cell_type": "code",
   "execution_count": 11,
   "id": "6d3c92da",
   "metadata": {},
   "outputs": [],
   "source": [
    "df.to_csv('jobs.csv')"
   ]
  },
  {
   "cell_type": "code",
   "execution_count": 12,
   "id": "2e41d838",
   "metadata": {},
   "outputs": [
    {
     "data": {
      "text/plain": [
       "'for naam in name:\\n    if naam is not None:\\n        print(naam.text)\\n    else:\\n        print(\"No name available\")'"
      ]
     },
     "execution_count": 12,
     "metadata": {},
     "output_type": "execute_result"
    }
   ],
   "source": [
    "'''for naam in name:\n",
    "    if naam is not None:\n",
    "        print(naam.text)\n",
    "    else:\n",
    "        print(\"No name available\")'''"
   ]
  },
  {
   "cell_type": "code",
   "execution_count": 13,
   "id": "a33c6169",
   "metadata": {
    "scrolled": true
   },
   "outputs": [
    {
     "data": {
      "text/plain": [
       "'\\'for loc in location:\\n    if loc is not None:\\n        print(loc.text)\\n    else:\\n        print(\"No location available\")'"
      ]
     },
     "execution_count": 13,
     "metadata": {},
     "output_type": "execute_result"
    }
   ],
   "source": [
    "''''for loc in location:\n",
    "    if loc is not None:\n",
    "        print(loc.text)\n",
    "    else:\n",
    "        print(\"No location available\")'''"
   ]
  },
  {
   "cell_type": "code",
   "execution_count": 14,
   "id": "8f999df4",
   "metadata": {
    "scrolled": false
   },
   "outputs": [
    {
     "data": {
      "text/plain": [
       "'for det in detail:\\n    if det is not None:\\n        print(det.text)\\n    else:\\n        print(\"No detail available\")'"
      ]
     },
     "execution_count": 14,
     "metadata": {},
     "output_type": "execute_result"
    }
   ],
   "source": [
    "'''for det in detail:\n",
    "    if det is not None:\n",
    "        print(det.text)\n",
    "    else:\n",
    "        print(\"No detail available\")'''"
   ]
  },
  {
   "cell_type": "code",
   "execution_count": 15,
   "id": "3de289e6",
   "metadata": {},
   "outputs": [
    {
     "data": {
      "text/plain": [
       "'for hire in hiring:\\n    if hire is not None:\\n        print(hire.text)\\n    else:\\n        print(\"Better Luck Next Time\")'"
      ]
     },
     "execution_count": 15,
     "metadata": {},
     "output_type": "execute_result"
    }
   ],
   "source": [
    "'''for hire in hiring:\n",
    "    if hire is not None:\n",
    "        print(hire.text)\n",
    "    else:\n",
    "        print(\"Better Luck Next Time\")'''"
   ]
  },
  {
   "cell_type": "code",
   "execution_count": 16,
   "id": "f0c273c5",
   "metadata": {},
   "outputs": [],
   "source": [
    "#checking the values first"
   ]
  },
  {
   "cell_type": "code",
   "execution_count": 17,
   "id": "b38fde78",
   "metadata": {},
   "outputs": [],
   "source": [
    "#location"
   ]
  },
  {
   "cell_type": "code",
   "execution_count": 18,
   "id": "8e236446",
   "metadata": {},
   "outputs": [],
   "source": [
    "#div_element_loc = soup.find('div',class_='sc-bgfUhJ hHeNFz')"
   ]
  },
  {
   "cell_type": "code",
   "execution_count": 19,
   "id": "d4f1990d",
   "metadata": {},
   "outputs": [],
   "source": [
    "#span_element_loc = div_element_loc.find('span', {'data-testid': 'jobDetailLocation'})"
   ]
  },
  {
   "cell_type": "code",
   "execution_count": 20,
   "id": "4ff518ca",
   "metadata": {},
   "outputs": [],
   "source": [
    "#location = span_element_loc.text"
   ]
  },
  {
   "cell_type": "code",
   "execution_count": 21,
   "id": "8a48f388",
   "metadata": {},
   "outputs": [],
   "source": [
    "#print(location)"
   ]
  },
  {
   "cell_type": "code",
   "execution_count": 22,
   "id": "6801ce36",
   "metadata": {},
   "outputs": [
    {
     "data": {
      "text/plain": [
       "\"for i in (div_element_loc):\\n    span_element_loc = div_element_loc.find('span', {'data-testid': 'jobDetailLocation'})\\n    location = span_element_loc.text\\n    print(location)\""
      ]
     },
     "execution_count": 22,
     "metadata": {},
     "output_type": "execute_result"
    }
   ],
   "source": [
    "'''for i in (div_element_loc):\n",
    "    span_element_loc = div_element_loc.find('span', {'data-testid': 'jobDetailLocation'})\n",
    "    location = span_element_loc.text\n",
    "    print(location)'''\n",
    "    "
   ]
  },
  {
   "cell_type": "code",
   "execution_count": 23,
   "id": "f3a28218",
   "metadata": {},
   "outputs": [],
   "source": [
    "#detail"
   ]
  },
  {
   "cell_type": "code",
   "execution_count": 24,
   "id": "087ee58c",
   "metadata": {},
   "outputs": [],
   "source": [
    "#div_element_detail=soup.find('div',class_='sc-qIOVB ctTsDz')"
   ]
  },
  {
   "cell_type": "code",
   "execution_count": 25,
   "id": "8436dd73",
   "metadata": {},
   "outputs": [],
   "source": [
    "#span_element_detail = div_element_detail.find('span', {'data-testid': 'jobDetailDateRecency'})"
   ]
  },
  {
   "cell_type": "code",
   "execution_count": 26,
   "id": "1ec2727e",
   "metadata": {},
   "outputs": [],
   "source": [
    "#detail = span_element_detail.text"
   ]
  },
  {
   "cell_type": "code",
   "execution_count": 27,
   "id": "52bff97a",
   "metadata": {},
   "outputs": [],
   "source": [
    "#print(detail)"
   ]
  },
  {
   "cell_type": "code",
   "execution_count": 28,
   "id": "19724f52",
   "metadata": {},
   "outputs": [],
   "source": [
    "#for i in (div_element_detail):\n",
    "#    span_element_detail = div_element_detail.find('span', {'data-testid': 'jobDetailDateRecency'})\n",
    " #   detail = span_element_detail.text\n",
    "    #print(detail)\n",
    "    "
   ]
  },
  {
   "cell_type": "code",
   "execution_count": 29,
   "id": "38356cc0",
   "metadata": {},
   "outputs": [],
   "source": [
    "#hiring"
   ]
  },
  {
   "cell_type": "code",
   "execution_count": 30,
   "id": "99e16323",
   "metadata": {},
   "outputs": [],
   "source": [
    "#div_element_hiring=soup.find('div',class_='sc-bgfUhJ hHeNFz')"
   ]
  },
  {
   "cell_type": "code",
   "execution_count": 31,
   "id": "386e94cd",
   "metadata": {},
   "outputs": [],
   "source": [
    "#span_element_hiring = div_element_hiring.find('span', class_='sc-cdpdzN hPikyo ds-tag-label')"
   ]
  },
  {
   "cell_type": "code",
   "execution_count": 32,
   "id": "db01ce32",
   "metadata": {},
   "outputs": [],
   "source": [
    "#hiring = span_element_hiring.text"
   ]
  },
  {
   "cell_type": "code",
   "execution_count": 33,
   "id": "e1793269",
   "metadata": {},
   "outputs": [],
   "source": [
    "#print(hiring)"
   ]
  }
 ],
 "metadata": {
  "kernelspec": {
   "display_name": "Python 3 (ipykernel)",
   "language": "python",
   "name": "python3"
  },
  "language_info": {
   "codemirror_mode": {
    "name": "ipython",
    "version": 3
   },
   "file_extension": ".py",
   "mimetype": "text/x-python",
   "name": "python",
   "nbconvert_exporter": "python",
   "pygments_lexer": "ipython3",
   "version": "3.9.13"
  }
 },
 "nbformat": 4,
 "nbformat_minor": 5
}
